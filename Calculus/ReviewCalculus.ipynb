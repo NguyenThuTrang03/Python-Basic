{
 "cells": [
  {
   "cell_type": "markdown",
   "metadata": {},
   "source": [
    "## 1.Tích phân:\n",
    "Tại sao tích phân quan trọng trong AI?\n",
    "\n",
    "1. Tối ưu hóa: \n",
    "   - Giúp tìm giá trị tối ưu của hàm mất mát\n",
    "   - Xác định hướng và độ lớn của bước cập nhật trong quá trình học\n",
    "\n",
    "2. Xác suất và Thống kê: \n",
    "   - Tính toán xác suất trong không gian liên tục\n",
    "   - Ước lượng các tham số của mô hình\n",
    "\n",
    "3. Xử lý tín hiệu:\n",
    "   - Chuyển đổi tín hiệu giữa các miền\n",
    "   - Lọc nhiễu và trích xuất đặc trưng\n",
    "\n",
    "4. Học sâu:\n",
    "   - Thiết kế và tính toán các hàm kích hoạt\n",
    "   - Xử lý thông tin trong các lớp neural\n",
    "\n",
    "→ Tích phân là nền tảng toán học không thể thiếu trong việc phát triển và hiểu biết các thuật toán AI hiện đại."
   ]
  },
  {
   "cell_type": "markdown",
   "metadata": {},
   "source": [
    "## 2.Vi phân: (đạo hàm)\n",
    "Vi phân có vai trò quan trọng trong AI thông qua:\n",
    "\n",
    "1. Tối ưu hóa mô hình:\n",
    "   - Gradient descent để tìm điểm cực tiểu của hàm mất mát\n",
    "   - Cập nhật trọng số trong mạng neural network\n",
    "   \n",
    "2. Huấn luyện mạng neural:\n",
    "   - Feed forward: Tính toán đầu ra từ input thông qua các layer\n",
    "   - Backpropagation: Cập nhật trọng số dựa trên gradient\n",
    "   \n",
    "3. Xử lý phi tuyến:\n",
    "   - Các hàm activation (sigmoid, ReLU,...) \n",
    "   - Biến đổi dữ liệu phi tuyến\n",
    "\n",
    "4. Phân tích độ nhạy:\n",
    "   - Đánh giá ảnh hưởng của các biến đầu vào\n",
    "   - Tối ưu hyperparameter\n",
    "\n",
    "5. Xác suất và thống kê:\n",
    "   - Tính toán phân phối xác suất\n",
    "   - Ước lượng tham số của mô hình\n",
    "\n",
    "→ Vi phân là nền tảng toán học cốt lõi giúp xây dựng và tối ưu các mô hình AI."
   ]
  }
 ],
 "metadata": {
  "language_info": {
   "name": "python"
  }
 },
 "nbformat": 4,
 "nbformat_minor": 2
}
